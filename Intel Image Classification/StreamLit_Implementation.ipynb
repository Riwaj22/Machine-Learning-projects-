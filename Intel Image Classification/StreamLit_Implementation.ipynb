{
  "nbformat": 4,
  "nbformat_minor": 0,
  "metadata": {
    "colab": {
      "provenance": []
    },
    "kernelspec": {
      "name": "python3",
      "display_name": "Python 3"
    },
    "language_info": {
      "name": "python"
    }
  },
  "cells": [
    {
      "cell_type": "code",
      "execution_count": 1,
      "metadata": {
        "colab": {
          "base_uri": "https://localhost:8080/"
        },
        "id": "lkFPXutDbeDY",
        "outputId": "4f01f68a-4f3e-4227-b57b-2a2c9e9daabe"
      },
      "outputs": [
        {
          "output_type": "stream",
          "name": "stdout",
          "text": [
            "\u001b[2K   \u001b[90m━━━━━━━━━━━━━━━━━━━━━━━━━━━━━━━━━━━━━━━━\u001b[0m \u001b[32m8.6/8.6 MB\u001b[0m \u001b[31m30.8 MB/s\u001b[0m eta \u001b[36m0:00:00\u001b[0m\n",
            "\u001b[2K   \u001b[90m━━━━━━━━━━━━━━━━━━━━━━━━━━━━━━━━━━━━━━━━\u001b[0m \u001b[32m6.9/6.9 MB\u001b[0m \u001b[31m34.7 MB/s\u001b[0m eta \u001b[36m0:00:00\u001b[0m\n",
            "\u001b[2K   \u001b[90m━━━━━━━━━━━━━━━━━━━━━━━━━━━━━━━━━━━━━━━━\u001b[0m \u001b[32m79.1/79.1 kB\u001b[0m \u001b[31m4.4 MB/s\u001b[0m eta \u001b[36m0:00:00\u001b[0m\n",
            "\u001b[?25h"
          ]
        }
      ],
      "source": [
        "!pip install -q streamlit\n"
      ]
    },
    {
      "cell_type": "code",
      "source": [
        "%%writefile app.py\n",
        "\n",
        "import streamlit as st\n",
        "from PIL import Image\n",
        "import numpy as np\n",
        "import tensorflow as tf\n",
        "\n",
        "# Set page configuration (must be the first Streamlit command)\n",
        "st.set_page_config(page_title=\"Image Classifier\", page_icon=\"📷\", layout=\"centered\")\n",
        "\n",
        "# Load the pre-trained model\n",
        "@st.cache_resource\n",
        "def load_model():\n",
        "    model = tf.keras.models.load_model(\"/content/intel_image.keras\")  # Update with your model's path\n",
        "    return model\n",
        "\n",
        "model = load_model()\n",
        "\n",
        "# Define class names\n",
        "CLASS_NAMES = ['buildings', 'forest', 'glacier', 'mountain', 'sea', 'street']\n",
        "\n",
        "# Define the prediction function\n",
        "def predict(image):\n",
        "    img_resized = image.resize((150, 150))  # Resize image to model input size\n",
        "    img_array = np.array(img_resized) / 255.0  # Normalize image\n",
        "    img_array = np.expand_dims(img_array, axis=0)  # Add batch dimension\n",
        "\n",
        "    # Predict and get confidence score\n",
        "    predictions = model.predict(img_array)\n",
        "    confidence_scores = predictions[0]\n",
        "    pred_index = np.argmax(confidence_scores)\n",
        "    pred_class = CLASS_NAMES[pred_index]\n",
        "    pred_confidence = confidence_scores[pred_index]\n",
        "\n",
        "    return pred_class, pred_confidence\n",
        "\n",
        "# Streamlit UI\n",
        "st.markdown(\n",
        "    \"\"\"\n",
        "    <style>\n",
        "        body {\n",
        "            background-color: #f9f9f9;\n",
        "            font-family: 'Arial', sans-serif;\n",
        "        }\n",
        "        .title {\n",
        "            color: #3b5998;\n",
        "            text-align: center;\n",
        "        }\n",
        "        .uploaded-image {\n",
        "            border: 2px solid #ddd;\n",
        "            border-radius: 5px;\n",
        "            margin: 10px 0;\n",
        "        }\n",
        "    </style>\n",
        "    \"\"\",\n",
        "    unsafe_allow_html=True,\n",
        ")\n",
        "\n",
        "st.title(\"📷 Image Classification App\")\n",
        "st.markdown(\"<h4 class='title'>Upload an image to classify it into one of six categories!</h4>\", unsafe_allow_html=True)\n",
        "\n",
        "# File uploader\n",
        "uploaded_file = st.file_uploader(\"Choose an image...\", type=[\"jpg\", \"jpeg\", \"png\"])\n",
        "\n",
        "if uploaded_file is not None:\n",
        "    col1, col2 = st.columns([1, 2])\n",
        "\n",
        "    # Display uploaded image\n",
        "    with col1:\n",
        "        st.image(uploaded_file, caption=\"Uploaded Image\", use_container_width=True)\n",
        "\n",
        "    # Process and predict\n",
        "    image = Image.open(uploaded_file)\n",
        "    pred_class, pred_confidence = predict(image)\n",
        "\n",
        "    # Display results\n",
        "    with col2:\n",
        "        st.markdown(\"### Prediction Results\")\n",
        "        if pred_confidence < 0.2:\n",
        "            st.warning(\"⚠️ No valid image uploaded. Please try again with a clearer or valid image.\")\n",
        "        else:\n",
        "            st.success(f\"**Prediction:** {pred_class}\")\n",
        "            st.metric(label=\"Confidence Score\", value=f\"{pred_confidence:.2f}\")\n",
        "\n",
        "st.markdown(\"---\")\n",
        "st.write(\n",
        "    \"\"\"\n",
        "    This app uses a deep learning model to classify images into six categories:\n",
        "    - 🏢 **Buildings**\n",
        "    - 🌲 **Forest**\n",
        "    - 🏔 **Glacier**\n",
        "    - ⛰ **Mountain**\n",
        "    - 🌊 **Sea**\n",
        "    - 🛣 **Street**\n",
        "\n",
        "    Upload any image to see the classification results!\n",
        "    \"\"\"\n",
        ")\n"
      ],
      "metadata": {
        "colab": {
          "base_uri": "https://localhost:8080/"
        },
        "id": "d8-lXX9Zbh5H",
        "outputId": "18de849a-d209-4ee5-a172-f32eec391edc"
      },
      "execution_count": 23,
      "outputs": [
        {
          "output_type": "stream",
          "name": "stdout",
          "text": [
            "Overwriting app.py\n"
          ]
        }
      ]
    },
    {
      "cell_type": "code",
      "source": [
        "!npm install localtunnel\n"
      ],
      "metadata": {
        "colab": {
          "base_uri": "https://localhost:8080/"
        },
        "id": "MYQji7SvcFso",
        "outputId": "a15a2bec-cf4a-4c22-ea88-5cde2725b2d4"
      },
      "execution_count": 24,
      "outputs": [
        {
          "output_type": "stream",
          "name": "stdout",
          "text": [
            "\u001b[K\u001b[?25h\n",
            "up to date, audited 23 packages in 614ms\n",
            "\n",
            "3 packages are looking for funding\n",
            "  run `npm fund` for details\n",
            "\n",
            "2 \u001b[33m\u001b[1mmoderate\u001b[22m\u001b[39m severity vulnerabilities\n",
            "\n",
            "To address all issues (including breaking changes), run:\n",
            "  npm audit fix --force\n",
            "\n",
            "Run `npm audit` for details.\n"
          ]
        }
      ]
    },
    {
      "cell_type": "code",
      "source": [
        "!streamlit run app.py &>/content/logs.txt & npx localtunnel --port 8501 & curl ipv4.icanhazip.com\n"
      ],
      "metadata": {
        "colab": {
          "base_uri": "https://localhost:8080/"
        },
        "id": "xbSM3jDgcPh3",
        "outputId": "e56164ab-a382-44a5-be11-33f2e9d3c0f6"
      },
      "execution_count": null,
      "outputs": [
        {
          "output_type": "stream",
          "name": "stdout",
          "text": [
            "34.75.179.13\n",
            "your url is: https://hot-berries-post.loca.lt\n"
          ]
        }
      ]
    },
    {
      "cell_type": "code",
      "source": [],
      "metadata": {
        "id": "a-jIiv2ecRLB"
      },
      "execution_count": null,
      "outputs": []
    }
  ]
}
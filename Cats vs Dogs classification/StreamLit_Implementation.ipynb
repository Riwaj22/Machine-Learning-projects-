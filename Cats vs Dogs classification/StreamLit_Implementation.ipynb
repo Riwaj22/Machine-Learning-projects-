{
  "nbformat": 4,
  "nbformat_minor": 0,
  "metadata": {
    "colab": {
      "provenance": []
    },
    "kernelspec": {
      "name": "python3",
      "display_name": "Python 3"
    },
    "language_info": {
      "name": "python"
    }
  },
  "cells": [
    {
      "cell_type": "code",
      "execution_count": 1,
      "metadata": {
        "colab": {
          "base_uri": "https://localhost:8080/"
        },
        "id": "Sn5IcisJkNLo",
        "outputId": "ca8ef590-8e03-4920-aac6-d430a5870a69"
      },
      "outputs": [
        {
          "output_type": "stream",
          "name": "stdout",
          "text": [
            "\u001b[2K     \u001b[90m━━━━━━━━━━━━━━━━━━━━━━━━━━━━━━━━━━━━━━━━\u001b[0m \u001b[32m44.3/44.3 kB\u001b[0m \u001b[31m1.1 MB/s\u001b[0m eta \u001b[36m0:00:00\u001b[0m\n",
            "\u001b[2K   \u001b[90m━━━━━━━━━━━━━━━━━━━━━━━━━━━━━━━━━━━━━━━━\u001b[0m \u001b[32m8.6/8.6 MB\u001b[0m \u001b[31m30.8 MB/s\u001b[0m eta \u001b[36m0:00:00\u001b[0m\n",
            "\u001b[2K   \u001b[90m━━━━━━━━━━━━━━━━━━━━━━━━━━━━━━━━━━━━━━━━\u001b[0m \u001b[32m6.9/6.9 MB\u001b[0m \u001b[31m46.3 MB/s\u001b[0m eta \u001b[36m0:00:00\u001b[0m\n",
            "\u001b[2K   \u001b[90m━━━━━━━━━━━━━━━━━━━━━━━━━━━━━━━━━━━━━━━━\u001b[0m \u001b[32m79.1/79.1 kB\u001b[0m \u001b[31m3.9 MB/s\u001b[0m eta \u001b[36m0:00:00\u001b[0m\n",
            "\u001b[?25h"
          ]
        }
      ],
      "source": [
        "!pip install -q streamlit\n"
      ]
    },
    {
      "cell_type": "code",
      "source": [
        "%%writefile app.py\n",
        "\n",
        "import streamlit as st\n",
        "from PIL import Image\n",
        "import numpy as np\n",
        "import tensorflow as tf\n",
        "\n",
        "# Set page configuration (must be the first Streamlit command)\n",
        "st.set_page_config(page_title=\"Dogs vs. Cats Classifier\", page_icon=\"🐾\", layout=\"centered\")\n",
        "\n",
        "# Load the pre-trained model\n",
        "@st.cache_resource\n",
        "def load_model():\n",
        "    model = tf.keras.models.load_model(\"/content/mobilenet_model_cats_vs_dogs.keras\")  # Update with your model's path\n",
        "    return model\n",
        "\n",
        "model = load_model()\n",
        "\n",
        "# Define class names\n",
        "CLASS_NAMES = ['Cat', 'Dog']\n",
        "\n",
        "# Define the prediction function\n",
        "def predict(image):\n",
        "    img_resized = image.resize((224, 224))  # Resize image to model input size\n",
        "    img_array = np.array(img_resized) / 255.0  # Normalize image\n",
        "    img_array = np.expand_dims(img_array, axis=0)  # Add batch dimension\n",
        "\n",
        "    # Predict and get confidence score\n",
        "    predictions = model.predict(img_array)\n",
        "    confidence_scores = predictions[0]\n",
        "    pred_index = np.argmax(confidence_scores)\n",
        "    pred_class = CLASS_NAMES[pred_index]\n",
        "    pred_confidence = confidence_scores[pred_index]\n",
        "\n",
        "    return pred_class, pred_confidence\n",
        "\n",
        "# Streamlit UI\n",
        "st.markdown(\n",
        "    \"\"\"\n",
        "    <style>\n",
        "        .main { background-color: #f9f9f9; }\n",
        "        footer { visibility: hidden; }\n",
        "    </style>\n",
        "    \"\"\",\n",
        "    unsafe_allow_html=True,\n",
        ")\n",
        "\n",
        "st.title(\"🐾 Dogs vs. Cats Image Classifier\")\n",
        "st.markdown(\"Upload an image of a dog or a cat, and this app will predict its category with confidence!\", unsafe_allow_html=True)\n",
        "\n",
        "# File uploader\n",
        "uploaded_file = st.file_uploader(\"Choose an image (JPG, JPEG, or PNG)\", type=[\"jpg\", \"jpeg\", \"png\"])\n",
        "\n",
        "if uploaded_file is not None:\n",
        "    col1, col2 = st.columns([1, 2])\n",
        "\n",
        "    # Display uploaded image\n",
        "    with col1:\n",
        "        st.image(uploaded_file, caption=\"Uploaded Image\", use_container_width=True)  # Updated parameter\n",
        "\n",
        "    # Process and predict\n",
        "    image = Image.open(uploaded_file)\n",
        "    pred_class, pred_confidence = predict(image)\n",
        "\n",
        "    # Display results\n",
        "    with col2:\n",
        "        st.markdown(\"### 🐾 Prediction Results\")\n",
        "        if pred_confidence < 0.2:\n",
        "            st.warning(\"⚠️ Unable to confidently classify the image. Please try again with a clearer image.\")\n",
        "        else:\n",
        "            st.success(f\"**Prediction:** {pred_class}\")\n",
        "            st.metric(label=\"Confidence Score\", value=f\"{pred_confidence:.2%}\")\n",
        "\n",
        "st.markdown(\"---\")\n",
        "st.write(\n",
        "    \"\"\"\n",
        "    ### About\n",
        "    This app uses a deep learning model trained to classify images of:\n",
        "    - 🐱 **Cats**\n",
        "    - 🐶 **Dogs**\n",
        "\n",
        "    Simply upload an image to see the classification results. Ensure the image clearly shows either a cat or a dog for best results!\n",
        "    \"\"\"\n",
        ")\n"
      ],
      "metadata": {
        "colab": {
          "base_uri": "https://localhost:8080/"
        },
        "id": "H0CoCpNikUOn",
        "outputId": "df95c408-4dd7-4a22-aa36-c33491e93d43"
      },
      "execution_count": 9,
      "outputs": [
        {
          "output_type": "stream",
          "name": "stdout",
          "text": [
            "Overwriting app.py\n"
          ]
        }
      ]
    },
    {
      "cell_type": "code",
      "source": [
        "!npm install localtunnel\n"
      ],
      "metadata": {
        "colab": {
          "base_uri": "https://localhost:8080/"
        },
        "id": "oyJcUFKvk_LU",
        "outputId": "0f5a0014-900d-4d1b-fa9a-88929d956058"
      },
      "execution_count": 10,
      "outputs": [
        {
          "output_type": "stream",
          "name": "stdout",
          "text": [
            "\u001b[K\u001b[?25h\n",
            "up to date, audited 23 packages in 538ms\n",
            "\n",
            "3 packages are looking for funding\n",
            "  run `npm fund` for details\n",
            "\n",
            "2 \u001b[33m\u001b[1mmoderate\u001b[22m\u001b[39m severity vulnerabilities\n",
            "\n",
            "To address all issues (including breaking changes), run:\n",
            "  npm audit fix --force\n",
            "\n",
            "Run `npm audit` for details.\n"
          ]
        }
      ]
    },
    {
      "cell_type": "code",
      "source": [
        "!streamlit run app.py &>/content/logs.txt & npx localtunnel --port 8501 & curl ipv4.icanhazip.com\n"
      ],
      "metadata": {
        "colab": {
          "base_uri": "https://localhost:8080/"
        },
        "id": "KBePfGJSk_jY",
        "outputId": "0bd15f90-6653-440b-fdc8-1bc0e91df2f4"
      },
      "execution_count": null,
      "outputs": [
        {
          "output_type": "stream",
          "name": "stdout",
          "text": [
            "34.106.106.233\n",
            "your url is: https://cyan-tables-watch.loca.lt\n"
          ]
        }
      ]
    },
    {
      "cell_type": "code",
      "source": [],
      "metadata": {
        "id": "O_jZKvOWpyZA"
      },
      "execution_count": null,
      "outputs": []
    }
  ]
}
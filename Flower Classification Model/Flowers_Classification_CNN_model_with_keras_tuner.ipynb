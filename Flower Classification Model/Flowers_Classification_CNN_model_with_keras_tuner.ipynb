{
  "cells": [
    {
      "cell_type": "code",
      "source": [
        "!pip install keras_tuner"
      ],
      "metadata": {
        "colab": {
          "base_uri": "https://localhost:8080/"
        },
        "id": "h4O4XWxXjxvY",
        "outputId": "648586de-1e5a-4d0c-d563-0918deef5c64"
      },
      "execution_count": 1,
      "outputs": [
        {
          "output_type": "stream",
          "name": "stdout",
          "text": [
            "Collecting keras_tuner\n",
            "  Downloading keras_tuner-1.4.7-py3-none-any.whl.metadata (5.4 kB)\n",
            "Requirement already satisfied: keras in /usr/local/lib/python3.10/dist-packages (from keras_tuner) (3.5.0)\n",
            "Requirement already satisfied: packaging in /usr/local/lib/python3.10/dist-packages (from keras_tuner) (24.2)\n",
            "Requirement already satisfied: requests in /usr/local/lib/python3.10/dist-packages (from keras_tuner) (2.32.3)\n",
            "Collecting kt-legacy (from keras_tuner)\n",
            "  Downloading kt_legacy-1.0.5-py3-none-any.whl.metadata (221 bytes)\n",
            "Requirement already satisfied: absl-py in /usr/local/lib/python3.10/dist-packages (from keras->keras_tuner) (1.4.0)\n",
            "Requirement already satisfied: numpy in /usr/local/lib/python3.10/dist-packages (from keras->keras_tuner) (1.26.4)\n",
            "Requirement already satisfied: rich in /usr/local/lib/python3.10/dist-packages (from keras->keras_tuner) (13.9.4)\n",
            "Requirement already satisfied: namex in /usr/local/lib/python3.10/dist-packages (from keras->keras_tuner) (0.0.8)\n",
            "Requirement already satisfied: h5py in /usr/local/lib/python3.10/dist-packages (from keras->keras_tuner) (3.12.1)\n",
            "Requirement already satisfied: optree in /usr/local/lib/python3.10/dist-packages (from keras->keras_tuner) (0.13.1)\n",
            "Requirement already satisfied: ml-dtypes in /usr/local/lib/python3.10/dist-packages (from keras->keras_tuner) (0.4.1)\n",
            "Requirement already satisfied: charset-normalizer<4,>=2 in /usr/local/lib/python3.10/dist-packages (from requests->keras_tuner) (3.4.0)\n",
            "Requirement already satisfied: idna<4,>=2.5 in /usr/local/lib/python3.10/dist-packages (from requests->keras_tuner) (3.10)\n",
            "Requirement already satisfied: urllib3<3,>=1.21.1 in /usr/local/lib/python3.10/dist-packages (from requests->keras_tuner) (2.2.3)\n",
            "Requirement already satisfied: certifi>=2017.4.17 in /usr/local/lib/python3.10/dist-packages (from requests->keras_tuner) (2024.8.30)\n",
            "Requirement already satisfied: typing-extensions>=4.5.0 in /usr/local/lib/python3.10/dist-packages (from optree->keras->keras_tuner) (4.12.2)\n",
            "Requirement already satisfied: markdown-it-py>=2.2.0 in /usr/local/lib/python3.10/dist-packages (from rich->keras->keras_tuner) (3.0.0)\n",
            "Requirement already satisfied: pygments<3.0.0,>=2.13.0 in /usr/local/lib/python3.10/dist-packages (from rich->keras->keras_tuner) (2.18.0)\n",
            "Requirement already satisfied: mdurl~=0.1 in /usr/local/lib/python3.10/dist-packages (from markdown-it-py>=2.2.0->rich->keras->keras_tuner) (0.1.2)\n",
            "Downloading keras_tuner-1.4.7-py3-none-any.whl (129 kB)\n",
            "\u001b[2K   \u001b[90m━━━━━━━━━━━━━━━━━━━━━━━━━━━━━━━━━━━━━━━━\u001b[0m \u001b[32m129.1/129.1 kB\u001b[0m \u001b[31m5.4 MB/s\u001b[0m eta \u001b[36m0:00:00\u001b[0m\n",
            "\u001b[?25hDownloading kt_legacy-1.0.5-py3-none-any.whl (9.6 kB)\n",
            "Installing collected packages: kt-legacy, keras_tuner\n",
            "Successfully installed keras_tuner-1.4.7 kt-legacy-1.0.5\n"
          ]
        }
      ]
    },
    {
      "cell_type": "code",
      "execution_count": 2,
      "metadata": {
        "id": "wPnJ2VUxMvHd"
      },
      "outputs": [],
      "source": [
        "from tensorflow.keras.models import Sequential\n",
        "from tensorflow.keras.layers import (\n",
        "    Conv2D,\n",
        "    BatchNormalization,\n",
        "    LeakyReLU,\n",
        "    MaxPooling2D,\n",
        "    Flatten,\n",
        "    Dense,\n",
        "    Dropout,\n",
        ")\n",
        "from tensorflow.keras import layers, models\n",
        "\n",
        "\n",
        "from tensorflow.keras.losses import CategoricalCrossentropy\n",
        "from tensorflow.keras.optimizers import Adam\n",
        "from tensorflow.keras.callbacks import EarlyStopping, ReduceLROnPlateau\n",
        "import keras_tuner as kt"
      ]
    },
    {
      "cell_type": "code",
      "execution_count": 3,
      "metadata": {
        "colab": {
          "base_uri": "https://localhost:8080/"
        },
        "id": "4KteezwZM5Zf",
        "outputId": "c8364594-8c8e-4371-bac6-509587f0e68e"
      },
      "outputs": [
        {
          "output_type": "stream",
          "name": "stdout",
          "text": [
            "Mounted at /content/drive/\n"
          ]
        }
      ],
      "source": [
        "from google.colab import drive\n",
        "\n",
        "drive.mount('/content/drive/')"
      ]
    },
    {
      "cell_type": "code",
      "execution_count": 4,
      "metadata": {
        "colab": {
          "base_uri": "https://localhost:8080/"
        },
        "id": "1fMY6BR8M7IV",
        "outputId": "b5ef74c1-36d2-425d-e9b7-47e8f55b2456"
      },
      "outputs": [
        {
          "output_type": "stream",
          "name": "stdout",
          "text": [
            "ls: cannot access 'content/drive/My Drive/': No such file or directory\n"
          ]
        }
      ],
      "source": [
        "!ls \"content/drive/My Drive/\"\n"
      ]
    },
    {
      "cell_type": "code",
      "source": [],
      "metadata": {
        "id": "TYUFwznbkOEg"
      },
      "execution_count": 4,
      "outputs": []
    },
    {
      "cell_type": "code",
      "execution_count": 5,
      "metadata": {
        "id": "OjROb-mFM_mW"
      },
      "outputs": [],
      "source": [
        "\n",
        "train_dir = \"/content/drive/MyDrive/flowers/train/\"\n",
        "test_dir = \"/content/drive/MyDrive/flowers/test/\"\n"
      ]
    },
    {
      "cell_type": "code",
      "execution_count": 6,
      "metadata": {
        "colab": {
          "base_uri": "https://localhost:8080/"
        },
        "id": "a-oV7mdTN9bf",
        "outputId": "3251bcb7-eda2-49dd-dff4-1f072c9223a0"
      },
      "outputs": [
        {
          "output_type": "stream",
          "name": "stdout",
          "text": [
            "Training Images:\n",
            "Found 2514 images belonging to 5 classes.\n",
            "Validating Images:\n",
            "Found 626 images belonging to 5 classes.\n",
            "Test Images:\n",
            "Found 1228 images belonging to 5 classes.\n"
          ]
        }
      ],
      "source": [
        "from tensorflow.keras.preprocessing.image import ImageDataGenerator\n",
        "\n",
        "# Set image shape and batch size\n",
        "image_shape = (100, 100)\n",
        "batch_size = 128\n",
        "\n",
        "# Augmentation for training data\n",
        "train_datagen = ImageDataGenerator(\n",
        "    rescale=1./255,\n",
        "    # rotation_range=20,\n",
        "    # width_shift_range=0.2,\n",
        "    # height_shift_range=0.2,\n",
        "    # shear_range=0.2,\n",
        "    # zoom_range=0.2,\n",
        "    # horizontal_flip=True,\n",
        "    validation_split=0.2  # Reserve 20% of training data for validation\n",
        ")\n",
        "\n",
        "# Only rescaling for validation and test data\n",
        "test_datagen = ImageDataGenerator(rescale=1./255)\n",
        "\n",
        "# Load training data with augmentation\n",
        "print(\"Training Images:\")\n",
        "train_data = train_datagen.flow_from_directory(\n",
        "    train_dir,\n",
        "    target_size=image_shape,\n",
        "    batch_size=batch_size,\n",
        "    class_mode='categorical',\n",
        "    shuffle=True,\n",
        "    subset='training'\n",
        ")\n",
        "\n",
        "# Load validation data (20% of training data)\n",
        "print(\"Validating Images:\")\n",
        "valid_data = train_datagen.flow_from_directory(\n",
        "    train_dir,\n",
        "    target_size=image_shape,\n",
        "    batch_size=batch_size,\n",
        "    class_mode='categorical',\n",
        "    shuffle=False,\n",
        "    subset='validation'\n",
        ")\n",
        "\n",
        "# Load test data (consider validation data as test data)\n",
        "print(\"Test Images:\")\n",
        "test_data = test_datagen.flow_from_directory(\n",
        "    test_dir,\n",
        "    target_size=image_shape,\n",
        "    batch_size=batch_size,\n",
        "    class_mode='categorical',\n",
        "    shuffle=False\n",
        ")\n"
      ]
    },
    {
      "cell_type": "code",
      "execution_count": 7,
      "metadata": {
        "colab": {
          "base_uri": "https://localhost:8080/"
        },
        "id": "VsAGhCzStMI0",
        "outputId": "cc0cd009-e911-4a35-ae7f-3f347b187a01"
      },
      "outputs": [
        {
          "output_type": "stream",
          "name": "stdout",
          "text": [
            "Training Class Names: ['daisy', 'dandelion', 'rose', 'sunflower', 'tulip']\n",
            "Validation Class Names: ['daisy', 'dandelion', 'rose', 'sunflower', 'tulip']\n",
            "Test Class Names: ['daisy', 'dandelion', 'rose', 'sunflower', 'tulip']\n",
            "Number of Training Classes: 5\n",
            "Number of Validation Classes: 5\n",
            "Number of Test Classes: 5\n"
          ]
        }
      ],
      "source": [
        "# Extract class names from the datasets using class_indices\n",
        "train_class_names = list(train_data.class_indices.keys())\n",
        "valid_class_names = list(valid_data.class_indices.keys())\n",
        "test_class_names = list(test_data.class_indices.keys())\n",
        "\n",
        "# Print class names\n",
        "print(\"Training Class Names:\", train_class_names)\n",
        "print(\"Validation Class Names:\", valid_class_names)\n",
        "print(\"Test Class Names:\", test_class_names)\n",
        "\n",
        "# Print the number of classes\n",
        "print(\"Number of Training Classes:\", len(train_class_names))\n",
        "print(\"Number of Validation Classes:\", len(valid_class_names))\n",
        "print(\"Number of Test Classes:\", len(test_class_names))"
      ]
    },
    {
      "cell_type": "code",
      "execution_count": 8,
      "metadata": {
        "id": "o7sOP_8-tj1y"
      },
      "outputs": [],
      "source": [
        "class_names = train_class_names\n"
      ]
    },
    {
      "cell_type": "code",
      "execution_count": 9,
      "metadata": {
        "id": "IBdp4JAgtlD0"
      },
      "outputs": [],
      "source": [
        "import keras\n",
        "import tensorflow as tf\n",
        "\n",
        "model = keras.Sequential()"
      ]
    },
    {
      "cell_type": "code",
      "execution_count": 10,
      "metadata": {
        "id": "cJLVWeyjtr7w"
      },
      "outputs": [],
      "source": [
        "def build_model(hp):\n",
        "    model = tf.keras.Sequential()\n",
        "    model.add(tf.keras.layers.Conv2D(\n",
        "        64,\n",
        "        kernel_size=3,\n",
        "        activation='relu',\n",
        "        input_shape=(100, 100, 3)))  # Match input data shape\n",
        "    model.add(tf.keras.layers.Flatten())\n",
        "    model.add(tf.keras.layers.Dense(\n",
        "        units=hp.Choice('layer_size', [64, 128, 256]),\n",
        "        activation='relu'))\n",
        "    model.add(tf.keras.layers.Dense(5, activation='softmax'))  # Match target shape\n",
        "\n",
        "    model.compile(\n",
        "        optimizer=tf.keras.optimizers.Adam(\n",
        "            ),\n",
        "        loss='categorical_crossentropy',\n",
        "        metrics=['accuracy'])\n",
        "    return model\n"
      ]
    },
    {
      "cell_type": "code",
      "execution_count": 11,
      "metadata": {
        "id": "9yUclsiQtzku",
        "colab": {
          "base_uri": "https://localhost:8080/"
        },
        "outputId": "d1491883-4a82-48d1-9e21-cdd1c8fa89ab"
      },
      "outputs": [
        {
          "output_type": "stream",
          "name": "stderr",
          "text": [
            "/usr/local/lib/python3.10/dist-packages/keras/src/layers/convolutional/base_conv.py:107: UserWarning: Do not pass an `input_shape`/`input_dim` argument to a layer. When using Sequential models, prefer using an `Input(shape)` object as the first layer in the model instead.\n",
            "  super().__init__(activity_regularizer=activity_regularizer, **kwargs)\n"
          ]
        }
      ],
      "source": [
        "# Initialize the tuner\n",
        "\n",
        "tuner = kt.RandomSearch(\n",
        "    build_model,\n",
        "    objective='val_accuracy',\n",
        "    max_trials=10,\n",
        "    executions_per_trial=1,\n",
        "    max_consecutive_failed_trials=5,  # Default is 3\n",
        "    # directory='my_dir',\n",
        "    # project_name='intro_to_kt'\n",
        ")"
      ]
    },
    {
      "cell_type": "code",
      "source": [],
      "metadata": {
        "id": "OprrhygWm0dc"
      },
      "execution_count": 11,
      "outputs": []
    },
    {
      "cell_type": "code",
      "source": [
        "tuner.search_space_summary()\n",
        "\n",
        "tuner.search(\n",
        "    train_data,\n",
        "    validation_data=valid_data,\n",
        "    epochs=10,\n",
        "    batch_size= 128 ,\n",
        ")\n",
        "\n",
        "best_model = tuner.get_best_models()[0]\n"
      ],
      "metadata": {
        "colab": {
          "base_uri": "https://localhost:8080/"
        },
        "id": "Lk729mRxmY11",
        "outputId": "cfe75973-5ec2-46c0-f609-b8f760a2b93e"
      },
      "execution_count": 13,
      "outputs": [
        {
          "output_type": "stream",
          "name": "stdout",
          "text": [
            "Trial 3 Complete [00h 06m 38s]\n",
            "val_accuracy: 0.5559105277061462\n",
            "\n",
            "Best val_accuracy So Far: 0.5894568562507629\n",
            "Total elapsed time: 00h 46m 44s\n"
          ]
        },
        {
          "output_type": "stream",
          "name": "stderr",
          "text": [
            "/usr/local/lib/python3.10/dist-packages/keras/src/saving/saving_lib.py:713: UserWarning: Skipping variable loading for optimizer 'adam', because it has 2 variables whereas the saved optimizer has 14 variables. \n",
            "  saveable.load_own_variables(weights_store.get(inner_path))\n"
          ]
        }
      ]
    },
    {
      "cell_type": "code",
      "source": [
        "best_model.save('keras_tuned.keras')"
      ],
      "metadata": {
        "id": "G14lhpT-tEJo"
      },
      "execution_count": 14,
      "outputs": []
    },
    {
      "cell_type": "code",
      "execution_count": 20,
      "metadata": {
        "id": "eICbwvuxuCbX"
      },
      "outputs": [],
      "source": [
        "# Compile the Model\n",
        "loss_fn = CategoricalCrossentropy(label_smoothing=0.1)\n",
        "optimizer = Adam(learning_rate=1e-4)\n",
        "model.compile(loss=loss_fn, optimizer=optimizer, metrics=['accuracy'])\n",
        "\n",
        "# Callbacks for training\n",
        "early_stopping = EarlyStopping(monitor='val_loss', patience=10, restore_best_weights=True)\n",
        "reduce_lr = ReduceLROnPlateau(monitor='val_loss', factor=0.5, patience=5, min_lr=1e-6)\n",
        "callbacks = [early_stopping, reduce_lr]"
      ]
    },
    {
      "cell_type": "code",
      "execution_count": 19,
      "metadata": {
        "colab": {
          "base_uri": "https://localhost:8080/"
        },
        "id": "ys5BlRg7uH-8",
        "outputId": "df697e75-6573-4a95-aca7-eb79ddae7c10"
      },
      "outputs": [
        {
          "output_type": "stream",
          "name": "stdout",
          "text": [
            "Training Loss: 0.3612, Training Accuracy: 0.9312\n",
            "Validation Loss: 1.1743, Validation Accuracy: 0.5895\n",
            "\n",
            "Final Model Performance\n",
            "Training Accuracy: 0.9312, Validation Accuracy: 0.5895\n",
            "Training Loss: 0.3612, Validation Loss: 1.1743\n"
          ]
        }
      ],
      "source": [
        "# Evaluate on the training data\n",
        "train_loss, train_accuracy = best_model.evaluate(train_data, verbose=0)\n",
        "print(f\"Training Loss: {train_loss:.4f}, Training Accuracy: {train_accuracy:.4f}\")\n",
        "\n",
        "# Evaluate on the validation data\n",
        "val_loss, val_accuracy = best_model.evaluate(valid_data, verbose=0)\n",
        "print(f\"Validation Loss: {val_loss:.4f}, Validation Accuracy: {val_accuracy:.4f}\")\n",
        "\n",
        "# Print final metrics\n",
        "print(\"\\nFinal Model Performance\")\n",
        "print(f\"Training Accuracy: {train_accuracy:.4f}, Validation Accuracy: {val_accuracy:.4f}\")\n",
        "print(f\"Training Loss: {train_loss:.4f}, Validation Loss: {val_loss:.4f}\")\n"
      ]
    },
    {
      "cell_type": "markdown",
      "metadata": {
        "id": "aSck4JAEuOBo"
      },
      "source": [
        "# Testing and Evaluation\n"
      ]
    },
    {
      "cell_type": "code",
      "execution_count": 15,
      "metadata": {
        "colab": {
          "base_uri": "https://localhost:8080/"
        },
        "id": "xcSbWU9AuZ7W",
        "outputId": "3327b199-198a-4817-872b-cfd87a890951"
      },
      "outputs": [
        {
          "output_type": "stream",
          "name": "stderr",
          "text": [
            "/usr/local/lib/python3.10/dist-packages/keras/src/trainers/data_adapters/py_dataset_adapter.py:122: UserWarning: Your `PyDataset` class should call `super().__init__(**kwargs)` in its constructor. `**kwargs` can include `workers`, `use_multiprocessing`, `max_queue_size`. Do not pass these arguments to `fit()`, as they will be ignored.\n",
            "  self._warn_if_super_not_called()\n"
          ]
        },
        {
          "output_type": "stream",
          "name": "stdout",
          "text": [
            "\u001b[1m10/10\u001b[0m \u001b[32m━━━━━━━━━━━━━━━━━━━━\u001b[0m\u001b[37m\u001b[0m \u001b[1m406s\u001b[0m 45s/step\n",
            "\u001b[1m10/10\u001b[0m \u001b[32m━━━━━━━━━━━━━━━━━━━━\u001b[0m\u001b[37m\u001b[0m \u001b[1m7s\u001b[0m 617ms/step - accuracy: 0.5047 - loss: 1.1959\n",
            "Test loss: 1.1771994829177856\n",
            "Test accuracy: 0.526872992515564\n"
          ]
        }
      ],
      "source": [
        "Y_pred = best_model.predict(test_data)\n",
        "score = best_model.evaluate(test_data)\n",
        "print('Test loss:', score[0])\n",
        "print('Test accuracy:', score[1])\n"
      ]
    },
    {
      "cell_type": "code",
      "execution_count": null,
      "metadata": {
        "id": "7b4O85jju3pJ"
      },
      "outputs": [],
      "source": []
    },
    {
      "cell_type": "code",
      "execution_count": null,
      "metadata": {
        "colab": {
          "base_uri": "https://localhost:8080/"
        },
        "id": "N03amO13u4zp",
        "outputId": "98ca70d3-9b1d-4395-8e88-c5b3414eb2c3"
      },
      "outputs": [
        {
          "metadata": {
            "tags": null
          },
          "name": "stdout",
          "output_type": "stream",
          "text": [
            "\u001b[1m5/5\u001b[0m \u001b[32m━━━━━━━━━━━━━━━━━━━━\u001b[0m\u001b[37m\u001b[0m \u001b[1m3s\u001b[0m 649ms/step\n"
          ]
        }
      ],
      "source": [
        "import seaborn as sns\n",
        "from sklearn.metrics import confusion_matrix\n",
        "import numpy as np\n",
        "\n",
        "# Define class names if you haven’t already\n",
        "CLASS_NAMES = class_names  # Update according to your labels\n",
        "\n",
        "# Generate predictions on the validation set\n",
        "val_predictions = best_model.predict(valid_data)\n",
        "val_pred_classes = np.argmax(val_predictions, axis=1)\n",
        "val_true_classes = np.concatenate([y for x, y in valid_data], axis=0)  # Get true labels\n",
        "\n",
        "# Create confusion matrix\n",
        "conf_matrix = confusion_matrix(val_true_classes, val_pred_classes)\n",
        "\n",
        "# Plot confusion matrix\n",
        "plt.figure(figsize=(10, 8))\n",
        "sns.heatmap(conf_matrix, annot=True, fmt='d', cmap='Blues', xticklabels=CLASS_NAMES, yticklabels=CLASS_NAMES)\n",
        "plt.xlabel(\"Predicted Labels\")\n",
        "plt.ylabel(\"True Labels\")\n",
        "plt.title(\"Confusion Matrix\")\n",
        "plt.show()\n"
      ]
    },
    {
      "cell_type": "code",
      "execution_count": null,
      "metadata": {
        "id": "Bzevk8K5xubY"
      },
      "outputs": [],
      "source": []
    }
  ],
  "metadata": {
    "accelerator": "GPU",
    "colab": {
      "gpuType": "T4",
      "provenance": []
    },
    "kernelspec": {
      "display_name": "Python 3",
      "name": "python3"
    },
    "language_info": {
      "name": "python"
    }
  },
  "nbformat": 4,
  "nbformat_minor": 0
}